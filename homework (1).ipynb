{
  "metadata": {
    "language_info": {
      "codemirror_mode": {
        "name": "python",
        "version": 3
      },
      "file_extension": ".py",
      "mimetype": "text/x-python",
      "name": "python",
      "nbconvert_exporter": "python",
      "pygments_lexer": "ipython3",
      "version": "3.8"
    },
    "kernelspec": {
      "name": "python",
      "display_name": "Python (Pyodide)",
      "language": "python"
    }
  },
  "nbformat_minor": 4,
  "nbformat": 4,
  "cells": [
    {
      "cell_type": "markdown",
      "source": "Import the numpy package under the name np",
      "metadata": {}
    },
    {
      "cell_type": "code",
      "source": "import numpy as np",
      "metadata": {
        "trusted": true
      },
      "execution_count": null,
      "outputs": []
    },
    {
      "cell_type": "markdown",
      "source": "Print the numpy version and the configuration",
      "metadata": {}
    },
    {
      "cell_type": "code",
      "source": "print(np.__version__)",
      "metadata": {
        "trusted": true
      },
      "execution_count": null,
      "outputs": []
    },
    {
      "cell_type": "markdown",
      "source": "Create a null vector of size 10",
      "metadata": {}
    },
    {
      "cell_type": "code",
      "source": "x = np.zeros(10)",
      "metadata": {
        "trusted": true
      },
      "execution_count": null,
      "outputs": []
    },
    {
      "cell_type": "markdown",
      "source": "Create a null vector of size 10 but the fifth value which is 1",
      "metadata": {}
    },
    {
      "cell_type": "code",
      "source": "y = np.zeros(10)\ny[4] = 1",
      "metadata": {
        "trusted": true
      },
      "execution_count": null,
      "outputs": []
    },
    {
      "cell_type": "markdown",
      "source": "Create a vector with values ranging from 10 to 49",
      "metadata": {}
    },
    {
      "cell_type": "code",
      "source": "a = np.arange(10, 50)",
      "metadata": {
        "trusted": true
      },
      "execution_count": null,
      "outputs": []
    },
    {
      "cell_type": "markdown",
      "source": "Reverse a vector (first element becomes last)",
      "metadata": {}
    },
    {
      "cell_type": "code",
      "source": "a = a[::-1]",
      "metadata": {
        "trusted": true
      },
      "execution_count": null,
      "outputs": []
    },
    {
      "cell_type": "markdown",
      "source": "Create a 3x3 matrix with values ranging from 0 to 8",
      "metadata": {}
    },
    {
      "cell_type": "code",
      "source": "m = np.arange(0, 9).reshape(3, 3)",
      "metadata": {
        "trusted": true
      },
      "execution_count": null,
      "outputs": []
    },
    {
      "cell_type": "markdown",
      "source": "Find indices of non-zero elements from [1,2,0,0,4,0]",
      "metadata": {}
    },
    {
      "cell_type": "code",
      "source": "y = [1, 2, 0, 0, 4, 0]\nfor elem in y:\n    if elem != 0:\n        print(y.index(elem))",
      "metadata": {
        "trusted": true
      },
      "execution_count": null,
      "outputs": []
    },
    {
      "cell_type": "markdown",
      "source": "Create a 3x3 identity matrix",
      "metadata": {}
    },
    {
      "cell_type": "code",
      "source": "m = np.identity(3)",
      "metadata": {
        "trusted": true
      },
      "execution_count": null,
      "outputs": []
    },
    {
      "cell_type": "markdown",
      "source": "Create a 3x3x3 array with random values",
      "metadata": {}
    },
    {
      "cell_type": "code",
      "source": "import random\na = np.random.random((3, 3, 3))",
      "metadata": {
        "trusted": true
      },
      "execution_count": null,
      "outputs": []
    },
    {
      "cell_type": "markdown",
      "source": "Create a 10x10 array with random values and find the minimum and maximum values",
      "metadata": {}
    },
    {
      "cell_type": "code",
      "source": "a = np.random.random((10, 10))\nm1, m2 = a.min(), a.max()",
      "metadata": {
        "trusted": true
      },
      "execution_count": null,
      "outputs": []
    },
    {
      "cell_type": "markdown",
      "source": "Create a random vector of size 30 and find the mean value",
      "metadata": {}
    },
    {
      "cell_type": "code",
      "source": "r = np.random.random(30)\nm = r.mean()",
      "metadata": {
        "trusted": true
      },
      "execution_count": null,
      "outputs": []
    },
    {
      "cell_type": "markdown",
      "source": "Create a 2d array with 1 on the border and 0 inside",
      "metadata": {}
    },
    {
      "cell_type": "code",
      "source": "a = np.ones((10, 10))\na[1:-1, 1:-1] = 0",
      "metadata": {
        "trusted": true
      },
      "execution_count": null,
      "outputs": []
    },
    {
      "cell_type": "markdown",
      "source": "What is the result of the following expression? ",
      "metadata": {}
    },
    {
      "cell_type": "code",
      "source": "print(0 * np.nan)\nprint(np.nan == np.nan)\nprint(np.inf > np.nan)\nprint(np.nan - np.nan)\nprint(np.nan in set([np.nan]))\nprint(0.3 == 3 * 0.1)",
      "metadata": {
        "trusted": true
      },
      "execution_count": null,
      "outputs": []
    },
    {
      "cell_type": "markdown",
      "source": "Create a 8x8 matrix and fill it with a checkerboard pattern",
      "metadata": {}
    },
    {
      "cell_type": "code",
      "source": "m = np.zeros((8, 8))\nm[1::2, ::2] = 1\nm[::2, 1::2] = 1",
      "metadata": {
        "trusted": true
      },
      "execution_count": null,
      "outputs": []
    },
    {
      "cell_type": "markdown",
      "source": "Consider a (6,7,8) shape array, what is the index (x,y,z) of the 100th element?",
      "metadata": {}
    },
    {
      "cell_type": "code",
      "source": "print(np.unravel_index(99, (6, 7, 8)))",
      "metadata": {
        "trusted": true
      },
      "execution_count": null,
      "outputs": []
    },
    {
      "cell_type": "markdown",
      "source": "Given a 1D array, negate all elements which are between 3 and 8, in place.",
      "metadata": {}
    },
    {
      "cell_type": "code",
      "source": "a = np.arange(11)\na[(3 < a) & (a < 8)] *= -1",
      "metadata": {
        "trusted": true
      },
      "execution_count": null,
      "outputs": []
    },
    {
      "cell_type": "markdown",
      "source": "What are the result of the following expressions?",
      "metadata": {}
    },
    {
      "cell_type": "code",
      "source": "print(np.array(0) / np.array(0))\nprint(np.array(0) // np.array(0))\nprint(np.array([np.nan]).astype(int).astype(float))",
      "metadata": {
        "trusted": true
      },
      "execution_count": null,
      "outputs": []
    },
    {
      "cell_type": "markdown",
      "source": "How to find common values between two arrays?",
      "metadata": {}
    },
    {
      "cell_type": "code",
      "source": "a1 = np.array([0, 1, 2, 3, 4, 5])\na2 = np.array([4, 5, 6, 7, 8, 9])\nprint(np.intersect1d(a1, a2))",
      "metadata": {
        "trusted": true
      },
      "execution_count": null,
      "outputs": []
    },
    {
      "cell_type": "markdown",
      "source": "Create a random vector of size 10 and sort it",
      "metadata": {}
    },
    {
      "cell_type": "code",
      "source": "r = sorted(np.random.random(10))",
      "metadata": {
        "trusted": true
      },
      "execution_count": null,
      "outputs": []
    },
    {
      "cell_type": "markdown",
      "source": "Consider two random array A and B, check if they are equal",
      "metadata": {}
    },
    {
      "cell_type": "code",
      "source": "A, B = np.random.random(3), np.random.random(3)\nnp.allclose(A, B)",
      "metadata": {
        "trusted": true
      },
      "execution_count": null,
      "outputs": []
    },
    {
      "cell_type": "markdown",
      "source": "Consider a random 10x2 matrix representing cartesian coordinates, convert them to polar coordinates",
      "metadata": {}
    },
    {
      "cell_type": "code",
      "source": "r = np.random.random((10, 2))\nx, y = r[:, 0], r[:, 1]\ns = np.sqrt(x ** 2 + y ** 2)\na = np.arctan2(y, x)\nc = np.array((*s, *a))",
      "metadata": {
        "trusted": true
      },
      "execution_count": null,
      "outputs": []
    },
    {
      "cell_type": "markdown",
      "source": "How to convert a float (32 bits) array into an integer (32 bits) in place?",
      "metadata": {}
    },
    {
      "cell_type": "code",
      "source": "a = (np.random.rand(10)*100).astype(np.float32)\nb = a.view(np.int32)\nb[:] = a",
      "metadata": {
        "trusted": true
      },
      "execution_count": null,
      "outputs": []
    },
    {
      "cell_type": "markdown",
      "source": "Subtract the mean of each row of a matrix",
      "metadata": {}
    },
    {
      "cell_type": "code",
      "source": "m = np.random.random((10, 10))\nm = m - m.mean(axis=1).reshape(-1, 1)",
      "metadata": {
        "trusted": true
      },
      "execution_count": null,
      "outputs": []
    }
  ]
}